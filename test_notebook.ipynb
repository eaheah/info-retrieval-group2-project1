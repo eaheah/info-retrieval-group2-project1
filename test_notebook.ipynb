{
 "cells": [
  {
   "cell_type": "code",
   "execution_count": 2,
   "metadata": {},
   "outputs": [],
   "source": [
    "%load_ext autoreload\n",
    "%autoreload 2"
   ]
  },
  {
   "cell_type": "code",
   "execution_count": 203,
   "metadata": {},
   "outputs": [],
   "source": [
    "from web_crawler import WebCrawler\n"
   ]
  },
  {
   "cell_type": "code",
   "execution_count": 205,
   "metadata": {},
   "outputs": [
    {
     "data": {
      "text/html": [
       "<table><tr><td>Live URL</td><td>File</td><td>Status</td><td># Links</td><td># Images</td></tr><tr><td><a href=http://www.apple.com/mac/>http://www.apple.com/mac/<td><a href=repository/1.html>http://www.apple.com/mac/</a></td><td>200</td><td>165</td><td>0</td></tr><tr><td><a href=https://www.apple.com/md/apple-tv-4k/specs/>https://www.apple.com/md/apple-tv-4k/specs/<td><a href=repository/2.html>https://www.apple.com/md/apple-tv-4k/specs/</a></td><td>200</td><td>48</td><td>0</td></tr><tr><td><a href=https://www.apple.com/my/iphone-xs/a12-bionic/>https://www.apple.com/my/iphone-xs/a12-bionic/<td><a href=repository/3.html>https://www.apple.com/my/iphone-xs/a12-bionic/</a></td><td>200</td><td>85</td><td>0</td></tr><tr><td><a href=https://www.apple.com/sa-ar/itunes/charts/movies/>https://www.apple.com/sa-ar/itunes/charts/movies/<td><a href=repository/4.html>https://www.apple.com/sa-ar/itunes/charts/movies/</a></td><td>200</td><td>456</td><td>101</td></tr><tr><td><a href=https://www.apple.com/in/remotedesktop/assetmanagement.html>https://www.apple.com/in/remotedesktop/assetmanagement.html<td><a href=repository/5.html>https://www.apple.com/in/remotedesktop/assetmanagement.html</a></td><td>200</td><td>66</td><td>3</td></tr></table>"
      ],
      "text/plain": [
       "<IPython.core.display.HTML object>"
      ]
     },
     "metadata": {},
     "output_type": "display_data"
    }
   ],
   "source": [
    "crawler = WebCrawler('specification.csv')"
   ]
  },
  {
   "cell_type": "code",
   "execution_count": 206,
   "metadata": {
    "scrolled": true
   },
   "outputs": [
    {
     "data": {
      "text/html": [
       "<table><tr><td>Live URL</td><td>File</td><td>Status</td><td># Links</td><td># Images</td></tr><tr><td><a href=https://en.wikipedia.org/wiki/Main_Page>https://en.wikipedia.org/wiki/Main_Page<td><a href=repository/1.html>https://en.wikipedia.org/wiki/Main_Page</a></td><td>200</td><td>323</td><td>20</td></tr><tr><td><a href=https://en.wikipedia.org/wiki/Theropod>https://en.wikipedia.org/wiki/Theropod<td><a href=repository/2.html>https://en.wikipedia.org/wiki/Theropod</a></td><td>200</td><td>1051</td><td>44</td></tr><tr><td><a href=https://en.wikipedia.org/wiki/Special:MyTalk>https://en.wikipedia.org/wiki/Special:MyTalk<td><a href=repository/3.html>https://en.wikipedia.org/wiki/Special:MyTalk</a></td><td>200</td><td>46</td><td>3</td></tr><tr><td><a href=https://en.wikipedia.org/wiki/Helen_Woodrow_Bones>https://en.wikipedia.org/wiki/Helen_Woodrow_Bones<td><a href=repository/4.html>https://en.wikipedia.org/wiki/Helen_Woodrow_Bones</a></td><td>200</td><td>291</td><td>8</td></tr><tr><td><a href=https://en.wikipedia.org/wiki/Wikipedia>https://en.wikipedia.org/wiki/Wikipedia<td><a href=repository/5.html>https://en.wikipedia.org/wiki/Wikipedia</a></td><td>200</td><td>3232</td><td>73</td></tr><tr><td><a href=https://en.wikipedia.org/wiki/Coprolites>https://en.wikipedia.org/wiki/Coprolites<td><a href=repository/6.html>https://en.wikipedia.org/wiki/Coprolites</a></td><td>200</td><td>370</td><td>14</td></tr><tr><td><a href=https://en.wikipedia.org/wiki/Kate_Sheppard>https://en.wikipedia.org/wiki/Kate_Sheppard<td><a href=repository/7.html>https://en.wikipedia.org/wiki/Kate_Sheppard</a></td><td>200</td><td>914</td><td>22</td></tr><tr><td><a href=https://en.wikipedia.org/wiki/Pulsar>https://en.wikipedia.org/wiki/Pulsar<td><a href=repository/8.html>https://en.wikipedia.org/wiki/Pulsar</a></td><td>200</td><td>1345</td><td>49</td></tr><tr><td><a href=https://en.wikipedia.org/wiki/Indus_Valley_Civilisation>https://en.wikipedia.org/wiki/Indus_Valley_Civilisation<td><a href=repository/9.html>https://en.wikipedia.org/wiki/Indus_Valley_Civilisation</a></td><td>200</td><td>2165</td><td>51</td></tr><tr><td><a href=https://en.wikipedia.org/wiki/English_Electric_Canberra>https://en.wikipedia.org/wiki/English_Electric_Canberra<td><a href=repository/10.html>https://en.wikipedia.org/wiki/English_Electric_Canberra</a></td><td>200</td><td>1600</td><td>57</td></tr></table>"
      ],
      "text/plain": [
       "<IPython.core.display.HTML object>"
      ]
     },
     "metadata": {},
     "output_type": "display_data"
    }
   ],
   "source": [
    "crawler = WebCrawler(seed='https://en.wikipedia.org/wiki/Main_Page', num_pages=10, domain='en.wikipedia.org')"
   ]
  },
  {
   "cell_type": "code",
   "execution_count": 207,
   "metadata": {},
   "outputs": [
    {
     "data": {
      "text/html": [
       "<table><tr><td>Live URL</td><td>File</td><td>Status</td><td># Links</td><td># Images</td></tr><tr><td><a href=https://www.reddit.com/>https://www.reddit.com/<td><a href=repository/1.html>https://www.reddit.com/</a></td><td>429</td><td>1</td><td>0</td></tr><tr><td><a href=https://www.reddit.com/sitemaps/comment_page_sitemap/dt-2012-05-17/0.xml>https://www.reddit.com/sitemaps/comment_page_sitemap/dt-2012-05-17/0.xml<td><a href=repository/2.html>https://www.reddit.com/sitemaps/comment_page_sitemap/dt-2012-05-17/0.xml</a></td><td>200</td><td>0</td><td>0</td></tr></table>"
      ],
      "text/plain": [
       "<IPython.core.display.HTML object>"
      ]
     },
     "metadata": {},
     "output_type": "display_data"
    }
   ],
   "source": [
    "# Getting sitemaps as valid urls for reddit. TODO; also, getting 429, probably because of https://github.com/reddit-archive/reddit/wiki/API#rules\n",
    "crawler = WebCrawler(seed='https://www.reddit.com/', num_pages=2, domain='')"
   ]
  },
  {
   "cell_type": "code",
   "execution_count": 208,
   "metadata": {},
   "outputs": [
    {
     "data": {
      "text/html": [
       "<table><tr><td>Live URL</td><td>File</td><td>Status</td><td># Links</td><td># Images</td></tr><tr><td><a href=https://en.wikipedia.org/wiki/Main_Page>https://en.wikipedia.org/wiki/Main_Page<td><a href=repository/1.html>https://en.wikipedia.org/wiki/Main_Page</a></td><td>200</td><td>323</td><td>20</td></tr><tr><td><a href=https://en.wikipedia.org/wiki/Theropod>https://en.wikipedia.org/wiki/Theropod<td><a href=repository/2.html>https://en.wikipedia.org/wiki/Theropod</a></td><td>200</td><td>1051</td><td>44</td></tr></table>"
      ],
      "text/plain": [
       "<IPython.core.display.HTML object>"
      ]
     },
     "metadata": {},
     "output_type": "display_data"
    }
   ],
   "source": [
    "crawler = WebCrawler(seed='https://en.wikipedia.org/wiki/Main_Page', num_pages=2, domain='en.wikipedia.org')"
   ]
  },
  {
   "cell_type": "code",
   "execution_count": null,
   "metadata": {},
   "outputs": [],
   "source": []
  }
 ],
 "metadata": {
  "kernelspec": {
   "display_name": "Python 3",
   "language": "python",
   "name": "python3"
  },
  "language_info": {
   "codemirror_mode": {
    "name": "ipython",
    "version": 3
   },
   "file_extension": ".py",
   "mimetype": "text/x-python",
   "name": "python",
   "nbconvert_exporter": "python",
   "pygments_lexer": "ipython3",
   "version": "3.7.0"
  }
 },
 "nbformat": 4,
 "nbformat_minor": 2
}
