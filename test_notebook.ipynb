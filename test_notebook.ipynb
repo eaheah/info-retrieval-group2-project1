{
 "cells": [
  {
   "cell_type": "code",
   "execution_count": 2,
   "metadata": {},
   "outputs": [],
   "source": [
    "%load_ext autoreload\n",
    "%autoreload 2"
   ]
  },
  {
   "cell_type": "code",
   "execution_count": 203,
   "metadata": {},
   "outputs": [],
   "source": [
    "from web_crawler import WebCrawler\n"
   ]
  },
  {
   "cell_type": "code",
   "execution_count": null,
   "metadata": {},
   "outputs": [],
   "source": [
    "crawler = WebCrawler('specification.csv')"
   ]
  },
  {
   "cell_type": "code",
   "execution_count": 196,
   "metadata": {
    "scrolled": true
   },
   "outputs": [
    {
     "data": {
      "text/html": [
       "<table><tr><td>File</td><td>Status</td><td># Links</td><td># Images</td></tr><tr><td><a href=repository/1.html>https://en.wikipedia.org/wiki/Main_Page</a></td><td>200</td><td>323</td><td>20</td></tr><tr><td><a href=repository/2.html>https://en.wikipedia.org/wiki/Theropod</a></td><td>200</td><td>1051</td><td>44</td></tr><tr><td><a href=repository/3.html>https://en.wikipedia.org/wiki/Special:MyTalk</a></td><td>200</td><td>46</td><td>3</td></tr><tr><td><a href=repository/4.html>https://en.wikipedia.org/wiki/Helen_Woodrow_Bones</a></td><td>200</td><td>289</td><td>8</td></tr><tr><td><a href=repository/5.html>https://en.wikipedia.org/wiki/Wikipedia</a></td><td>200</td><td>3232</td><td>73</td></tr><tr><td><a href=repository/6.html>https://en.wikipedia.org/wiki/Coprolites</a></td><td>200</td><td>370</td><td>14</td></tr><tr><td><a href=repository/7.html>https://en.wikipedia.org/wiki/Kate_Sheppard</a></td><td>200</td><td>914</td><td>22</td></tr><tr><td><a href=repository/8.html>https://en.wikipedia.org/wiki/Pulsar</a></td><td>200</td><td>1345</td><td>49</td></tr><tr><td><a href=repository/9.html>https://en.wikipedia.org/wiki/Indus_Valley_Civilisation</a></td><td>200</td><td>2165</td><td>51</td></tr><tr><td><a href=repository/10.html>https://en.wikipedia.org/wiki/English_Electric_Canberra</a></td><td>200</td><td>1600</td><td>57</td></tr></table>"
      ],
      "text/plain": [
       "<IPython.core.display.HTML object>"
      ]
     },
     "metadata": {},
     "output_type": "display_data"
    }
   ],
   "source": [
    "crawler = WebCrawler(seed='https://en.wikipedia.org/wiki/Main_Page', num_pages=10, domain='en.wikipedia.org')"
   ]
  },
  {
   "cell_type": "code",
   "execution_count": 202,
   "metadata": {},
   "outputs": [
    {
     "data": {
      "text/html": [
       "<table><tr><td>File</td><td>Status</td><td># Links</td><td># Images</td></tr><tr><td><a href=repository/1.html>https://www.reddit.com/</a></td><td>429</td><td>1</td><td>0</td></tr><tr><td><a href=repository/2.html>https://www.reddit.com/sitemaps/comment_page_sitemap/dt-2012-05-17/0.xml</a></td><td>200</td><td>0</td><td>0</td></tr></table>"
      ],
      "text/plain": [
       "<IPython.core.display.HTML object>"
      ]
     },
     "metadata": {},
     "output_type": "display_data"
    }
   ],
   "source": [
    "# Getting sitemaps as valid urls for reddit. TODO; also, getting 429, probably because of https://github.com/reddit-archive/reddit/wiki/API#rules\n",
    "crawler = WebCrawler(seed='https://www.reddit.com/', num_pages=2, domain='')"
   ]
  },
  {
   "cell_type": "code",
   "execution_count": null,
   "metadata": {},
   "outputs": [],
   "source": []
  },
  {
   "cell_type": "code",
   "execution_count": null,
   "metadata": {},
   "outputs": [],
   "source": []
  }
 ],
 "metadata": {
  "kernelspec": {
   "display_name": "Python 3",
   "language": "python",
   "name": "python3"
  },
  "language_info": {
   "codemirror_mode": {
    "name": "ipython",
    "version": 3
   },
   "file_extension": ".py",
   "mimetype": "text/x-python",
   "name": "python",
   "nbconvert_exporter": "python",
   "pygments_lexer": "ipython3",
   "version": "3.7.0"
  }
 },
 "nbformat": 4,
 "nbformat_minor": 2
}
